{
 "cells": [
  {
   "cell_type": "markdown",
   "id": "7acceb6b",
   "metadata": {},
   "source": [
    "# Acesta teste titlul pentru capitolul 3.2"
   ]
  },
  {
   "cell_type": "markdown",
   "id": "4779fa57",
   "metadata": {},
   "source": [
    "## Acesta este primul subcapitol"
   ]
  },
  {
   "cell_type": "markdown",
   "id": "3c05f64a",
   "metadata": {},
   "source": [
    "### Hello world print"
   ]
  },
  {
   "cell_type": "code",
   "execution_count": 1,
   "id": "01031324",
   "metadata": {},
   "outputs": [
    {
     "name": "stdout",
     "output_type": "stream",
     "text": [
      "Hello world\n"
     ]
    }
   ],
   "source": [
    "print(\"Hello world\")"
   ]
  },
  {
   "cell_type": "markdown",
   "id": "9259d609",
   "metadata": {},
   "source": [
    "Operator \"in\""
   ]
  },
  {
   "cell_type": "code",
   "execution_count": null,
   "id": "055b3436",
   "metadata": {},
   "outputs": [
    {
     "name": "stdout",
     "output_type": "stream",
     "text": [
      "S-a gasit litera a in cuvant\n"
     ]
    }
   ],
   "source": [
    "if \"a\" in \"Brasov\":\n",
    "    print(\"S-a gasit litera a in cuvant\")"
   ]
  },
  {
   "cell_type": "code",
   "execution_count": 4,
   "id": "066d9c05",
   "metadata": {},
   "outputs": [
    {
     "name": "stdout",
     "output_type": "stream",
     "text": [
      "True\n"
     ]
    }
   ],
   "source": [
    "if \"ana\" in \"banana\":\n",
    "    print(True)"
   ]
  },
  {
   "cell_type": "markdown",
   "id": "60ba329c",
   "metadata": {},
   "source": [
    "Se cere utilizatorului sa introduca o litera. Sa se afiseze daca aceasta este vocala sau consoana"
   ]
  },
  {
   "cell_type": "code",
   "execution_count": 7,
   "id": "bd97e383",
   "metadata": {},
   "outputs": [
    {
     "data": {
      "text/plain": [
       "'a'"
      ]
     },
     "execution_count": 7,
     "metadata": {},
     "output_type": "execute_result"
    }
   ],
   "source": [
    "input(\"Introdu o litera\")"
   ]
  },
  {
   "cell_type": "markdown",
   "id": "300a393b",
   "metadata": {},
   "source": [
    "Functia len() - length"
   ]
  },
  {
   "cell_type": "code",
   "execution_count": 8,
   "id": "1a14e631",
   "metadata": {},
   "outputs": [
    {
     "data": {
      "text/plain": [
       "23"
      ]
     },
     "execution_count": 8,
     "metadata": {},
     "output_type": "execute_result"
    }
   ],
   "source": [
    "len(\"Acesta este curs Python\")"
   ]
  },
  {
   "cell_type": "code",
   "execution_count": 11,
   "id": "de748d6e",
   "metadata": {},
   "outputs": [
    {
     "name": "stdout",
     "output_type": "stream",
     "text": [
      "parola prea lunga. o s-o uiti\n"
     ]
    }
   ],
   "source": [
    "password_input = input(\"Introdu parola:\")\n",
    "if len(password_input) < 6:\n",
    "    print(\"Parola slaba. Introdu alta\")\n",
    "if len(password_input) > 24:\n",
    "    print(\"parola prea lunga. o s-o uiti\")\n"
   ]
  }
 ],
 "metadata": {
  "kernelspec": {
   "display_name": "Python 3",
   "language": "python",
   "name": "python3"
  },
  "language_info": {
   "codemirror_mode": {
    "name": "ipython",
    "version": 3
   },
   "file_extension": ".py",
   "mimetype": "text/x-python",
   "name": "python",
   "nbconvert_exporter": "python",
   "pygments_lexer": "ipython3",
   "version": "3.13.5"
  }
 },
 "nbformat": 4,
 "nbformat_minor": 5
}
